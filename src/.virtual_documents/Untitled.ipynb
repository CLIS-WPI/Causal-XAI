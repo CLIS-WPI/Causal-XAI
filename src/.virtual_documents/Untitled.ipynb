from plyfile import PlyData, PlyElement


 plydata = PlyData.read('C:\Users\snatanzi\Downloads\floor(2).ply')


plydata


from plyfile import PlyData
import numpy as np
import open3d as o3d

# Read the PLY file
plydata = PlyData.read('meshes/wall_ym.ply')

# Extract vertex coordinates
vertex_data = plydata['vertex'].data
vertices = np.vstack((vertex_data['x'], vertex_data['y'], vertex_data['z'])).T

# Check if face information is available and visualize accordingly
if 'face' in plydata:
    face_data = plydata['face'].data['vertex_indices']
    faces = np.array([face.tolist() for face in face_data])
    mesh = o3d.geometry.TriangleMesh()
    mesh.vertices = o3d.utility.Vector3dVector(vertices)
    mesh.triangles = o3d.utility.Vector3iVector(faces)
    mesh.compute_vertex_normals()
    o3d.visualization.draw_geometries([mesh])
else:
    pcd = o3d.geometry.PointCloud()
    pcd.points = o3d.utility.Vector3dVector(vertices)
    o3d.visualization.draw_geometries([pcd])




