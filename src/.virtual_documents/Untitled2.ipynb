%run main.py


import tensorflow as tf
import numpy as np
from sionna.rt import Scene
from config import SmartFactoryConfig
from scene_manager import SceneManager
from scene_setup import setup_scene

# Initialize configuration
config = SmartFactoryConfig()

# Create and setup the scene
scene = setup_scene(config)

# Set scene frequency
scene.frequency = tf.cast(config.carrier_frequency, tf.float32)

# Create scene manager
scene_manager = SceneManager(scene, config)

# Add base station (transmitter)
bs_position = tf.constant([2.0, 2.0, 2.0], dtype=tf.float32)
bs_orientation = tf.constant([0.0, 0.0, 0.0], dtype=tf.float32)
tx = scene_manager.add_transmitter("base_station", bs_position, bs_orientation)

# Add AGVs (receivers)
for i in range(config.num_agvs):
    agv_position = tf.constant([5.0 + i*2, 5.0, 0.5], dtype=tf.float32)
    agv_orientation = tf.constant([0.0, 0.0, 0.0], dtype=tf.float32)
    rx = scene_manager.add_receiver(f"agv_{i}", agv_position, agv_orientation)

# Add RIS
ris_position = tf.constant([8.0, 8.0, 2.0], dtype=tf.float32)
ris_orientation = tf.constant([0.0, 0.0, 0.0], dtype=tf.float32)
ris = scene_manager.add_ris("ris1", ris_position, ris_orientation)

# Visualize the scene
scene.preview()

# Optional: Save the visualization
scene.save_preview('factory_scene.png')



