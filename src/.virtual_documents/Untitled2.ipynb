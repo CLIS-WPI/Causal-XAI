python3 main.py


%run main.py


%matplotlib inline
import tensorflow as tf
import numpy as np
import matplotlib.pyplot as plt
from config import SmartFactoryConfig
from channel_generator import SmartFactoryChannel




# Initialize configuration
config = SmartFactoryConfig()

# Create channel generator
channel_gen = SmartFactoryChannel(config)

# Generate channel
channel_data = channel_gen.generate_channel()



