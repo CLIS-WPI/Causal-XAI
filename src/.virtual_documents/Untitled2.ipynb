# Cell 1: Import required libraries and setup matplotlib
%matplotlib notebook
import logging
logging.getLogger('matplotlib.font_manager').disabled = True

import tensorflow as tf
import sionna
from sionna.rt import Scene, Transmitter, Receiver, RIS
from config import SmartFactoryConfig
from scene_setup import setup_scene
import matplotlib.pyplot as plt


# Cell 2: Create configuration and setup scene
config = SmartFactoryConfig()
scene = setup_scene(config)



# Cell 3: Use Sionna's visualization method
scene.preview()  # Instead of scene.plot()
plt.show()
