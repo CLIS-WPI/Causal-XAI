%matplotlib inline
%matplotlib notebook  # For interactive 3D plots


import matplotlib.pyplot as plt
import numpy as np
import tensorflow as tf
from config import SmartFactoryConfig
from scene_setup import setup_scene
from channel_generator import SmartFactoryChannel

# Create config and scene
config = SmartFactoryConfig()
scene = setup_scene(config)

# Create channel generator
channel_gen = SmartFactoryChannel(config, scene)

# Generate channel data
channel_data = channel_gen.generate_channel()


# Visualization functions
def plot_channel_magnitude(channel_matrix):
    """Plot channel magnitude response"""
    plt.figure(figsize=(10,6))
    magnitude_db = 20 * np.log10(np.abs(channel_matrix.numpy()))
    plt.imshow(magnitude_db, aspect='auto', cmap='viridis')
    plt.colorbar(label='Magnitude (dB)')
    plt.xlabel('Subcarrier Index')
    plt.ylabel('Antenna Index')
    plt.title('Channel Magnitude Response')
    plt.show()

def plot_path_delays(path_delays):
    """Plot histogram of path delays"""
    plt.figure(figsize=(10,6))
    plt.hist(path_delays.numpy().flatten(), bins=50)
    plt.xlabel('Delay (s)')
    plt.ylabel('Count')
    plt.title('Path Delay Distribution')
    plt.grid(True)
    plt.show()


# Visualize channel data
if 'channel_matrices' in channel_data:
    plot_channel_magnitude(channel_data['channel_matrices'])

if 'path_delays' in channel_data:
    plot_path_delays(channel_data['path_delays'])

# Print channel statistics
print("\nChannel Statistics:")
print(f"Channel matrix shape: {channel_data['channel_matrices'].shape}")
print(f"Maximum magnitude: {np.max(np.abs(channel_data['channel_matrices'].numpy())):.2f}")
print(f"Minimum magnitude: {np.min(np.abs(channel_data['channel_matrices'].numpy())):.2f}")


# 3D Scene Visualization
scene.preview()  # This will show the interactive 3D view of your environment

# You can also render specific views
scene.render(elevation=45, azimuth=45)  # Shows the scene from a 45-degree angle

# To visualize with paths
paths = scene.compute_paths()
scene.preview(paths=paths)  # Shows the scene with ray paths



