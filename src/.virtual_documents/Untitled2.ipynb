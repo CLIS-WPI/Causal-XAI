%run main.py


# After running main.py, add these lines to visualize the scene
scene = setup_scene(config)  # Get your scene

# Preview the scene interactively (in Jupyter)
scene.preview()

# Or render with specific camera angles
scene.render(camera="Camera.001")  # Try different camera numbers

# To visualize with paths
paths = scene.compute_paths()
scene.preview(paths=paths)

# Save the scene for later use
scene.save('factory_scene.xml')



