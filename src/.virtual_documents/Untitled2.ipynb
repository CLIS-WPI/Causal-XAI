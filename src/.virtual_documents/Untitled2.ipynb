# Cell 1: Basic imports and setup
import tensorflow as tf
from config import SmartFactoryConfig
from scene_setup import setup_scene
import matplotlib.pyplot as plt

# Create configuration and scene
config = SmartFactoryConfig()
scene = setup_scene(config)

# Simply call preview() without any parameters
scene.preview()
plt.show()


# Cell 2: Generate and analyze channel data
from channel_generator import SmartFactoryChannel
import numpy as np
import matplotlib.pyplot as plt

# Initialize channel generator with our existing scene
channel_gen = SmartFactoryChannel(config, scene)

# Generate channel data
channel_data = channel_gen.generate_channel()

# Extract and reshape channel data for visualization
h = channel_data['h'].numpy()
print("\nChannel Statistics:")
print(f"Channel matrix shape: {h.shape}")

# Check for NaN values
nan_count = np.sum(np.isnan(h))
print(f"Number of NaN values: {nan_count}")

# Create a more meaningful visualization
# Average over some dimensions to get a 2D representation
h_2d = np.mean(np.abs(h[0, :, 0, :, :, 0, :]), axis=(0, 2))  # Average over receivers and subcarriers

plt.figure(figsize=(10, 6))
plt.imshow(h_2d, aspect='auto', cmap='viridis')
plt.colorbar(label='Average Magnitude')
plt.title('Channel Magnitude (Averaged)')
plt.xlabel('Frequency bin')
plt.ylabel('Antenna index')
plt.show()

# Plot magnitude distribution (excluding NaN values)
plt.figure(figsize=(10, 6))
valid_magnitudes = np.abs(h[~np.isnan(h)])
if len(valid_magnitudes) > 0:
    plt.hist(valid_magnitudes.flatten(), bins=50, density=True)
    plt.title('Distribution of Channel Magnitudes')
    plt.xlabel('Magnitude')
    plt.ylabel('Density')
    plt.grid(True)
    plt.show()
else:
    print("No valid magnitude values to plot")

# Print additional debug information
print("\nDebug Information:")
print(f"Min value (excluding NaN): {np.nanmin(np.abs(h))}")
print(f"Max value (excluding NaN): {np.nanmax(np.abs(h))}")
print(f"Mean value (excluding NaN): {np.nanmean(np.abs(h))}")


# Cell 3: Use Sionna's visualization method
scene.preview()  # Instead of scene.plot()
plt.show()



