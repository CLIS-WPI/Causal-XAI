python3 main.py


%run main.py


%matplotlib inline
import tensorflow as tf
import numpy as np
import matplotlib.pyplot as plt
from config import SmartFactoryConfig
from channel_generator import SmartFactoryChannel




# Initialize configuration
config = SmartFactoryConfig()

# Update the ray tracing method to a valid option
config.ray_tracing['method'] = 'fibonacci'  # or 'exhaustive'

# Create channel generator
channel_gen = SmartFactoryChannel(config)

# Generate channel
channel_data = channel_gen.generate_channel()


# Now let's visualize the channel data
if 'h' in channel_data:
    # Plot channel magnitude
    plt.figure(figsize=(10,6))
    magnitude_db = 20 * np.log10(np.abs(channel_data['h'].numpy()))
    plt.imshow(magnitude_db, aspect='auto', cmap='viridis')
    plt.colorbar(label='Magnitude (dB)')
    plt.xlabel('Subcarrier Index')
    plt.ylabel('Antenna Index')
    plt.title('Channel Magnitude Response')
    plt.show()

if 'paths' in channel_data:
    # Plot path delays
    plt.figure(figsize=(10,6))
    delays = channel_data['paths'].tau.numpy().flatten()
    plt.hist(delays, bins=50)
    plt.xlabel('Delay (s)')
    plt.ylabel('Count')
    plt.title('Path Delay Distribution')
    plt.grid(True)
    plt.show()

# Print channel statistics
print("\nChannel Statistics:")
if 'h' in channel_data:
    h_numpy = channel_data['h'].numpy()
    print(f"Channel matrix shape: {h_numpy.shape}")
    print(f"Maximum magnitude: {np.max(np.abs(h_numpy)):.2f}")
    print(f"Minimum magnitude: {np.min(np.abs(h_numpy)):.2f}")

if 'paths' in channel_data:
    print(f"\nPath Statistics:")
    print(f"Number of paths: {len(channel_data['paths'].tau.numpy().flatten())}")
    print(f"Maximum delay: {np.max(channel_data['paths'].tau.numpy()):.2e} s")
    print(f"Minimum delay: {np.min(channel_data['paths'].tau.numpy()):.2e} s")
