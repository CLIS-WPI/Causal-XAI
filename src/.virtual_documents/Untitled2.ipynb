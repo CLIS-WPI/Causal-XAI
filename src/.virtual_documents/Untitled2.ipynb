import logging
logging.getLogger('matplotlib.font_manager').disabled = True

%matplotlib notebook


import matplotlib.pyplot as plt
import numpy as np
import tensorflow as tf
from config import SmartFactoryConfig
from scene_setup import setup_scene
from channel_generator import SmartFactoryChannel

# Create config and scene
config = SmartFactoryConfig()
scene = setup_scene(config)

# Create channel generator
channel_gen = SmartFactoryChannel(config, scene)

# Generate channel data
channel_data = channel_gen.generate_channel()


# Visualization functions
def plot_channel_magnitude(channel_matrix):
    """Plot channel magnitude response"""
    plt.figure(figsize=(10,6))
    magnitude_db = 20 * np.log10(np.abs(channel_matrix.numpy()))
    plt.imshow(magnitude_db, aspect='auto', cmap='viridis')
    plt.colorbar(label='Magnitude (dB)')
    plt.xlabel('Subcarrier Index')
    plt.ylabel('Antenna Index')
    plt.title('Channel Magnitude Response')
    plt.show()

def plot_path_delays(path_delays):
    """Plot histogram of path delays"""
    plt.figure(figsize=(10,6))
    plt.hist(path_delays.numpy().flatten(), bins=50)
    plt.xlabel('Delay (s)')
    plt.ylabel('Count')
    plt.title('Path Delay Distribution')
    plt.grid(True)
    plt.show()


# Diagnostic cell
print("Channel data keys:", channel_data.keys())
print("Channel matrix shape:", channel_data['h'].shape)
print("Data type:", type(channel_data['h']))


# Visualize channel data
if 'h' in channel_data:
    # First print the shape to understand the dimensions
    print("Channel matrix dimensions:", channel_data['h'].shape)
    
    # Plot using the modified function
    plot_channel_magnitude(channel_data['h'])
    
    # Print channel statistics
    print("\nChannel Statistics:")
    h_numpy = channel_data['h'].numpy()
    print(f"Maximum magnitude: {np.max(np.abs(h_numpy)):.2f}")
    print(f"Minimum magnitude: {np.min(np.abs(h_numpy)):.2f}")






