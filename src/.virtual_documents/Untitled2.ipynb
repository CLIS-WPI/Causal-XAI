import logging
logging.getLogger('matplotlib.font_manager').disabled = True
%matplotlib notebook




