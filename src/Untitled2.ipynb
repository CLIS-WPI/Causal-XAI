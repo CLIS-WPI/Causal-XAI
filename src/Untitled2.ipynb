{
 "cells": [
  {
   "cell_type": "code",
   "execution_count": 1,
   "id": "61365d38-9ba5-441f-957c-bcb6d70d43e5",
   "metadata": {},
   "outputs": [
    {
     "ename": "SyntaxError",
     "evalue": "invalid syntax (293366439.py, line 1)",
     "output_type": "error",
     "traceback": [
      "\u001b[1;36m  Cell \u001b[1;32mIn[1], line 1\u001b[1;36m\u001b[0m\n\u001b[1;33m    python3 main.py\u001b[0m\n\u001b[1;37m            ^\u001b[0m\n\u001b[1;31mSyntaxError\u001b[0m\u001b[1;31m:\u001b[0m invalid syntax\n"
     ]
    }
   ],
   "source": [
    "python3 main.py"
   ]
  },
  {
   "cell_type": "code",
   "execution_count": 2,
   "id": "df3cb5fd-99be-41a9-8e64-90f8ad76ddcd",
   "metadata": {},
   "outputs": [
    {
     "name": "stdout",
     "output_type": "stream",
     "text": [
      "WARNING:tensorflow:From C:\\Python311\\Lib\\site-packages\\keras\\src\\losses.py:2976: The name tf.losses.sparse_softmax_cross_entropy is deprecated. Please use tf.compat.v1.losses.sparse_softmax_cross_entropy instead.\n",
      "\n"
     ]
    },
    {
     "name": "stderr",
     "output_type": "stream",
     "text": [
      "INFO:scene_setup:Starting scene setup with ray tracing...\n"
     ]
    },
    {
     "name": "stdout",
     "output_type": "stream",
     "text": [
      "XLA can lead to reduced numerical precision. Use with care.\n"
     ]
    },
    {
     "name": "stderr",
     "output_type": "stream",
     "text": [
      "DEBUG:scene_setup:Debugging Base station state:\n",
      "DEBUG:scene_setup:- Position: [10.  10.   4.5]\n",
      "DEBUG:scene_setup:- Orientation: [  0.   0. -90.]\n",
      "DEBUG:scene_setup:- Array config: <sionna.rt.antenna_array.PlanarArray object at 0x000001CB22DE65D0>\n",
      "DEBUG:scene_setup:Debugging RIS state:\n",
      "DEBUG:scene_setup:- Position: [10.  19.5  2.5]\n",
      "DEBUG:scene_setup:- Orientation: [  0. -90.   0.]\n",
      "DEBUG:scene_setup:Debugging AGV_0 state:\n",
      "DEBUG:scene_setup:- Position: [12.   5.   0.5]\n",
      "DEBUG:scene_setup:- Orientation: [0. 0. 0.]\n",
      "DEBUG:scene_setup:- Array config: <sionna.rt.antenna_array.PlanarArray object at 0x000001CB22E0A390>\n",
      "DEBUG:scene_setup:Debugging AGV_1 state:\n",
      "DEBUG:scene_setup:- Position: [ 8.  15.   0.5]\n",
      "DEBUG:scene_setup:- Orientation: [0. 0. 0.]\n",
      "DEBUG:scene_setup:- Array config: <sionna.rt.antenna_array.PlanarArray object at 0x000001CB22DF7B90>\n",
      "INFO:scene_setup:Scene setup completed successfully\n",
      "INFO:scene_setup:- Transmitters: 7\n",
      "INFO:scene_setup:- Receivers: 2\n",
      "INFO:scene_setup:- RIS: 1\n",
      "INFO:scene_setup:- Objects: 0\n",
      "INFO:scene_setup:- Ray tracing enabled with:\n",
      "INFO:scene_setup:  - LOS: True\n",
      "INFO:scene_setup:  - Reflection: True\n",
      "INFO:scene_setup:  - Diffraction: True\n",
      "INFO:scene_setup:  - Scattering: False\n"
     ]
    },
    {
     "name": "stdout",
     "output_type": "stream",
     "text": [
      "Generating channel data...\n",
      "Generating channel data...\n",
      "Channel data generation completed\n",
      "Channel data saved to: C:\\Users\\snatanzi\\Desktop\\Causal-XAI\\src\\results\\channel_data.h5\n",
      "\n",
      "Channel Data Statistics:\n",
      "Channel matrices shape: (1, 2, 1, 7, 128, 1, 1024)\n",
      "Path delays shape: (1, 2, 7, 2)\n",
      "Number of receivers: 2\n",
      "Execution completed\n"
     ]
    }
   ],
   "source": [
    "%run main.py"
   ]
  },
  {
   "cell_type": "code",
   "execution_count": 6,
   "id": "3641f5da-b711-464c-a951-30ce46241402",
   "metadata": {},
   "outputs": [
    {
     "name": "stderr",
     "output_type": "stream",
     "text": [
      "DEBUG:matplotlib.pyplot:Loaded backend module://matplotlib_inline.backend_inline version unknown.\n"
     ]
    }
   ],
   "source": [
    "%matplotlib inline\n",
    "import tensorflow as tf\n",
    "import numpy as np\n",
    "import matplotlib.pyplot as plt\n",
    "from config import SmartFactoryConfig\n",
    "from channel_generator import SmartFactoryChannel\n",
    "\n"
   ]
  },
  {
   "cell_type": "code",
   "execution_count": 7,
   "id": "deeb9461-93f0-4fb4-bf80-420fe1caf6de",
   "metadata": {},
   "outputs": [
    {
     "name": "stderr",
     "output_type": "stream",
     "text": [
      "INFO:scene_setup:Starting scene setup with ray tracing...\n",
      "DEBUG:scene_setup:Debugging Base station state:\n"
     ]
    },
    {
     "name": "stdout",
     "output_type": "stream",
     "text": [
      "XLA can lead to reduced numerical precision. Use with care.\n"
     ]
    },
    {
     "name": "stderr",
     "output_type": "stream",
     "text": [
      "DEBUG:scene_setup:- Position: [10.  10.   4.5]\n",
      "DEBUG:scene_setup:- Orientation: [  0.   0. -90.]\n",
      "DEBUG:scene_setup:- Array config: <sionna.rt.antenna_array.PlanarArray object at 0x000001CBA3C29050>\n",
      "DEBUG:scene_setup:Debugging RIS state:\n",
      "DEBUG:scene_setup:- Position: [10.  19.5  2.5]\n",
      "DEBUG:scene_setup:- Orientation: [  0. -90.   0.]\n",
      "DEBUG:scene_setup:Debugging AGV_0 state:\n",
      "DEBUG:scene_setup:- Position: [12.   5.   0.5]\n",
      "DEBUG:scene_setup:- Orientation: [0. 0. 0.]\n",
      "DEBUG:scene_setup:- Array config: <sionna.rt.antenna_array.PlanarArray object at 0x000001CB9CAB1390>\n",
      "DEBUG:scene_setup:Debugging AGV_1 state:\n",
      "DEBUG:scene_setup:- Position: [ 8.  15.   0.5]\n",
      "DEBUG:scene_setup:- Orientation: [0. 0. 0.]\n",
      "DEBUG:scene_setup:- Array config: <sionna.rt.antenna_array.PlanarArray object at 0x000001CBA3BEAB10>\n",
      "INFO:scene_setup:Scene setup completed successfully\n",
      "INFO:scene_setup:- Transmitters: 7\n",
      "INFO:scene_setup:- Receivers: 2\n",
      "INFO:scene_setup:- RIS: 1\n",
      "INFO:scene_setup:- Objects: 0\n",
      "INFO:scene_setup:- Ray tracing enabled with:\n",
      "INFO:scene_setup:  - LOS: True\n",
      "INFO:scene_setup:  - Reflection: True\n",
      "INFO:scene_setup:  - Diffraction: True\n",
      "INFO:scene_setup:  - Scattering: False\n"
     ]
    },
    {
     "ename": "RuntimeError",
     "evalue": "Error generating channel response: Unknown method 'image'",
     "output_type": "error",
     "traceback": [
      "\u001b[1;31m---------------------------------------------------------------------------\u001b[0m",
      "\u001b[1;31mValueError\u001b[0m                                Traceback (most recent call last)",
      "File \u001b[1;32m~\\Desktop\\Causal-XAI\\src\\channel_generator.py:126\u001b[0m, in \u001b[0;36mSmartFactoryChannel.generate_channel\u001b[1;34m(self)\u001b[0m\n\u001b[0;32m    125\u001b[0m \u001b[38;5;66;03m# Generate paths using ray tracing\u001b[39;00m\n\u001b[1;32m--> 126\u001b[0m paths \u001b[38;5;241m=\u001b[39m \u001b[38;5;28;43mself\u001b[39;49m\u001b[38;5;241;43m.\u001b[39;49m\u001b[43mscene\u001b[49m\u001b[38;5;241;43m.\u001b[39;49m\u001b[43mcompute_paths\u001b[49m\u001b[43m(\u001b[49m\n\u001b[0;32m    127\u001b[0m \u001b[43m    \u001b[49m\u001b[43mmax_depth\u001b[49m\u001b[38;5;241;43m=\u001b[39;49m\u001b[38;5;28;43mself\u001b[39;49m\u001b[38;5;241;43m.\u001b[39;49m\u001b[43mconfig\u001b[49m\u001b[38;5;241;43m.\u001b[39;49m\u001b[43mray_tracing\u001b[49m\u001b[43m[\u001b[49m\u001b[38;5;124;43m'\u001b[39;49m\u001b[38;5;124;43mmax_depth\u001b[39;49m\u001b[38;5;124;43m'\u001b[39;49m\u001b[43m]\u001b[49m\u001b[43m,\u001b[49m\n\u001b[0;32m    128\u001b[0m \u001b[43m    \u001b[49m\u001b[43mmethod\u001b[49m\u001b[38;5;241;43m=\u001b[39;49m\u001b[38;5;28;43mself\u001b[39;49m\u001b[38;5;241;43m.\u001b[39;49m\u001b[43mconfig\u001b[49m\u001b[38;5;241;43m.\u001b[39;49m\u001b[43mray_tracing\u001b[49m\u001b[43m[\u001b[49m\u001b[38;5;124;43m'\u001b[39;49m\u001b[38;5;124;43mmethod\u001b[39;49m\u001b[38;5;124;43m'\u001b[39;49m\u001b[43m]\u001b[49m\u001b[43m,\u001b[49m\n\u001b[0;32m    129\u001b[0m \u001b[43m    \u001b[49m\u001b[43mnum_samples\u001b[49m\u001b[38;5;241;43m=\u001b[39;49m\u001b[38;5;28;43mself\u001b[39;49m\u001b[38;5;241;43m.\u001b[39;49m\u001b[43mconfig\u001b[49m\u001b[38;5;241;43m.\u001b[39;49m\u001b[43mray_tracing\u001b[49m\u001b[43m[\u001b[49m\u001b[38;5;124;43m'\u001b[39;49m\u001b[38;5;124;43mnum_samples\u001b[39;49m\u001b[38;5;124;43m'\u001b[39;49m\u001b[43m]\u001b[49m\u001b[43m,\u001b[49m\n\u001b[0;32m    130\u001b[0m \u001b[43m    \u001b[49m\u001b[43mlos\u001b[49m\u001b[38;5;241;43m=\u001b[39;49m\u001b[38;5;28;43mself\u001b[39;49m\u001b[38;5;241;43m.\u001b[39;49m\u001b[43mconfig\u001b[49m\u001b[38;5;241;43m.\u001b[39;49m\u001b[43mray_tracing\u001b[49m\u001b[43m[\u001b[49m\u001b[38;5;124;43m'\u001b[39;49m\u001b[38;5;124;43mlos\u001b[39;49m\u001b[38;5;124;43m'\u001b[39;49m\u001b[43m]\u001b[49m\u001b[43m,\u001b[49m\n\u001b[0;32m    131\u001b[0m \u001b[43m    \u001b[49m\u001b[43mreflection\u001b[49m\u001b[38;5;241;43m=\u001b[39;49m\u001b[38;5;28;43mself\u001b[39;49m\u001b[38;5;241;43m.\u001b[39;49m\u001b[43mconfig\u001b[49m\u001b[38;5;241;43m.\u001b[39;49m\u001b[43mray_tracing\u001b[49m\u001b[43m[\u001b[49m\u001b[38;5;124;43m'\u001b[39;49m\u001b[38;5;124;43mreflection\u001b[39;49m\u001b[38;5;124;43m'\u001b[39;49m\u001b[43m]\u001b[49m\u001b[43m,\u001b[49m\n\u001b[0;32m    132\u001b[0m \u001b[43m    \u001b[49m\u001b[43mdiffraction\u001b[49m\u001b[38;5;241;43m=\u001b[39;49m\u001b[38;5;28;43mself\u001b[39;49m\u001b[38;5;241;43m.\u001b[39;49m\u001b[43mconfig\u001b[49m\u001b[38;5;241;43m.\u001b[39;49m\u001b[43mray_tracing\u001b[49m\u001b[43m[\u001b[49m\u001b[38;5;124;43m'\u001b[39;49m\u001b[38;5;124;43mdiffraction\u001b[39;49m\u001b[38;5;124;43m'\u001b[39;49m\u001b[43m]\u001b[49m\u001b[43m,\u001b[49m\n\u001b[0;32m    133\u001b[0m \u001b[43m    \u001b[49m\u001b[43mscattering\u001b[49m\u001b[38;5;241;43m=\u001b[39;49m\u001b[38;5;28;43mself\u001b[39;49m\u001b[38;5;241;43m.\u001b[39;49m\u001b[43mconfig\u001b[49m\u001b[38;5;241;43m.\u001b[39;49m\u001b[43mray_tracing\u001b[49m\u001b[43m[\u001b[49m\u001b[38;5;124;43m'\u001b[39;49m\u001b[38;5;124;43mscattering\u001b[39;49m\u001b[38;5;124;43m'\u001b[39;49m\u001b[43m]\u001b[49m\n\u001b[0;32m    134\u001b[0m \u001b[43m\u001b[49m\u001b[43m)\u001b[49m\n\u001b[0;32m    136\u001b[0m \u001b[38;5;66;03m# Get channel impulse response\u001b[39;00m\n",
      "File \u001b[1;32mC:\\Python311\\Lib\\site-packages\\sionna\\rt\\scene.py:948\u001b[0m, in \u001b[0;36mScene.compute_paths\u001b[1;34m(self, max_depth, method, num_samples, los, reflection, diffraction, scattering, ris, scat_keep_prob, edge_diffraction, check_scene, scat_random_phases, testing)\u001b[0m\n\u001b[0;32m    947\u001b[0m \u001b[38;5;66;03m# Trace the paths\u001b[39;00m\n\u001b[1;32m--> 948\u001b[0m traced_paths \u001b[38;5;241m=\u001b[39m \u001b[38;5;28;43mself\u001b[39;49m\u001b[38;5;241;43m.\u001b[39;49m\u001b[43mtrace_paths\u001b[49m\u001b[43m(\u001b[49m\u001b[43mmax_depth\u001b[49m\u001b[43m,\u001b[49m\u001b[43m \u001b[49m\u001b[43mmethod\u001b[49m\u001b[43m,\u001b[49m\u001b[43m \u001b[49m\u001b[43mnum_samples\u001b[49m\u001b[43m,\u001b[49m\u001b[43m \u001b[49m\u001b[43mlos\u001b[49m\u001b[43m,\u001b[49m\n\u001b[0;32m    949\u001b[0m \u001b[43m    \u001b[49m\u001b[43mreflection\u001b[49m\u001b[43m,\u001b[49m\u001b[43m \u001b[49m\u001b[43mdiffraction\u001b[49m\u001b[43m,\u001b[49m\u001b[43m \u001b[49m\u001b[43mscattering\u001b[49m\u001b[43m,\u001b[49m\u001b[43m \u001b[49m\u001b[43mris\u001b[49m\u001b[43m,\u001b[49m\u001b[43m \u001b[49m\u001b[43mscat_keep_prob\u001b[49m\u001b[43m,\u001b[49m\n\u001b[0;32m    950\u001b[0m \u001b[43m    \u001b[49m\u001b[43medge_diffraction\u001b[49m\u001b[43m,\u001b[49m\u001b[43m \u001b[49m\u001b[43mcheck_scene\u001b[49m\u001b[43m)\u001b[49m\n\u001b[0;32m    952\u001b[0m \u001b[38;5;66;03m# Compute the fields and merge the paths\u001b[39;00m\n\u001b[0;32m    953\u001b[0m \u001b[38;5;66;03m# Check scene is not done twice\u001b[39;00m\n",
      "File \u001b[1;32mC:\\Python311\\Lib\\site-packages\\sionna\\rt\\scene.py:644\u001b[0m, in \u001b[0;36mScene.trace_paths\u001b[1;34m(self, max_depth, method, num_samples, los, reflection, diffraction, scattering, ris, scat_keep_prob, edge_diffraction, check_scene)\u001b[0m\n\u001b[0;32m    643\u001b[0m \u001b[38;5;66;03m# Trace the paths\u001b[39;00m\n\u001b[1;32m--> 644\u001b[0m paths \u001b[38;5;241m=\u001b[39m \u001b[38;5;28;43mself\u001b[39;49m\u001b[38;5;241;43m.\u001b[39;49m\u001b[43m_solver_paths\u001b[49m\u001b[38;5;241;43m.\u001b[39;49m\u001b[43mtrace_paths\u001b[49m\u001b[43m(\u001b[49m\u001b[43mmax_depth\u001b[49m\u001b[43m,\u001b[49m\n\u001b[0;32m    645\u001b[0m \u001b[43m                                       \u001b[49m\u001b[43mmethod\u001b[49m\u001b[38;5;241;43m=\u001b[39;49m\u001b[43mmethod\u001b[49m\u001b[43m,\u001b[49m\n\u001b[0;32m    646\u001b[0m \u001b[43m                                       \u001b[49m\u001b[43mnum_samples\u001b[49m\u001b[38;5;241;43m=\u001b[39;49m\u001b[43mnum_samples\u001b[49m\u001b[43m,\u001b[49m\n\u001b[0;32m    647\u001b[0m \u001b[43m                                       \u001b[49m\u001b[43mlos\u001b[49m\u001b[38;5;241;43m=\u001b[39;49m\u001b[43mlos\u001b[49m\u001b[43m,\u001b[49m\u001b[43m \u001b[49m\u001b[43mreflection\u001b[49m\u001b[38;5;241;43m=\u001b[39;49m\u001b[43mreflection\u001b[49m\u001b[43m,\u001b[49m\n\u001b[0;32m    648\u001b[0m \u001b[43m                                       \u001b[49m\u001b[43mdiffraction\u001b[49m\u001b[38;5;241;43m=\u001b[39;49m\u001b[43mdiffraction\u001b[49m\u001b[43m,\u001b[49m\n\u001b[0;32m    649\u001b[0m \u001b[43m                                       \u001b[49m\u001b[43mscattering\u001b[49m\u001b[38;5;241;43m=\u001b[39;49m\u001b[43mscattering\u001b[49m\u001b[43m,\u001b[49m\n\u001b[0;32m    650\u001b[0m \u001b[43m                                       \u001b[49m\u001b[43mris\u001b[49m\u001b[38;5;241;43m=\u001b[39;49m\u001b[43mris\u001b[49m\u001b[43m,\u001b[49m\n\u001b[0;32m    651\u001b[0m \u001b[43m                                       \u001b[49m\u001b[43mscat_keep_prob\u001b[49m\u001b[38;5;241;43m=\u001b[39;49m\u001b[43mscat_keep_prob\u001b[49m\u001b[43m,\u001b[49m\n\u001b[0;32m    652\u001b[0m \u001b[43m                                       \u001b[49m\u001b[43medge_diffraction\u001b[49m\u001b[38;5;241;43m=\u001b[39;49m\u001b[43medge_diffraction\u001b[49m\u001b[43m)\u001b[49m\n\u001b[0;32m    654\u001b[0m \u001b[38;5;28;01mreturn\u001b[39;00m paths\n",
      "File \u001b[1;32mC:\\Python311\\Lib\\site-packages\\sionna\\rt\\solver_paths.py:549\u001b[0m, in \u001b[0;36mSolverPaths.trace_paths\u001b[1;34m(self, max_depth, method, num_samples, los, reflection, diffraction, scattering, ris, scat_keep_prob, edge_diffraction)\u001b[0m\n\u001b[0;32m    548\u001b[0m \u001b[38;5;28;01melse\u001b[39;00m:\n\u001b[1;32m--> 549\u001b[0m     \u001b[38;5;28;01mraise\u001b[39;00m \u001b[38;5;167;01mValueError\u001b[39;00m(\u001b[38;5;124mf\u001b[39m\u001b[38;5;124m\"\u001b[39m\u001b[38;5;124mUnknown method \u001b[39m\u001b[38;5;124m'\u001b[39m\u001b[38;5;132;01m{\u001b[39;00mmethod\u001b[38;5;132;01m}\u001b[39;00m\u001b[38;5;124m'\u001b[39m\u001b[38;5;124m\"\u001b[39m)\n\u001b[0;32m    551\u001b[0m \u001b[38;5;66;03m##############################################\u001b[39;00m\n\u001b[0;32m    552\u001b[0m \u001b[38;5;66;03m# LoS and Specular paths\u001b[39;00m\n\u001b[0;32m    553\u001b[0m \u001b[38;5;66;03m##############################################\u001b[39;00m\n",
      "\u001b[1;31mValueError\u001b[0m: Unknown method 'image'",
      "\nDuring handling of the above exception, another exception occurred:\n",
      "\u001b[1;31mRuntimeError\u001b[0m                              Traceback (most recent call last)",
      "Cell \u001b[1;32mIn[7], line 8\u001b[0m\n\u001b[0;32m      5\u001b[0m channel_gen \u001b[38;5;241m=\u001b[39m SmartFactoryChannel(config)\n\u001b[0;32m      7\u001b[0m \u001b[38;5;66;03m# Generate channel\u001b[39;00m\n\u001b[1;32m----> 8\u001b[0m channel_data \u001b[38;5;241m=\u001b[39m \u001b[43mchannel_gen\u001b[49m\u001b[38;5;241;43m.\u001b[39;49m\u001b[43mgenerate_channel\u001b[49m\u001b[43m(\u001b[49m\u001b[43m)\u001b[49m\n",
      "File \u001b[1;32m~\\Desktop\\Causal-XAI\\src\\channel_generator.py:162\u001b[0m, in \u001b[0;36mSmartFactoryChannel.generate_channel\u001b[1;34m(self)\u001b[0m\n\u001b[0;32m    153\u001b[0m     \u001b[38;5;28;01mreturn\u001b[39;00m {\n\u001b[0;32m    154\u001b[0m         \u001b[38;5;124m'\u001b[39m\u001b[38;5;124mh\u001b[39m\u001b[38;5;124m'\u001b[39m: h,\n\u001b[0;32m    155\u001b[0m         \u001b[38;5;124m'\u001b[39m\u001b[38;5;124mtau\u001b[39m\u001b[38;5;124m'\u001b[39m: tau,\n\u001b[1;32m   (...)\u001b[0m\n\u001b[0;32m    158\u001b[0m         \u001b[38;5;124m'\u001b[39m\u001b[38;5;124magv_positions\u001b[39m\u001b[38;5;124m'\u001b[39m: current_positions\n\u001b[0;32m    159\u001b[0m     }\n\u001b[0;32m    161\u001b[0m \u001b[38;5;28;01mexcept\u001b[39;00m \u001b[38;5;167;01mException\u001b[39;00m \u001b[38;5;28;01mas\u001b[39;00m e:\n\u001b[1;32m--> 162\u001b[0m     \u001b[38;5;28;01mraise\u001b[39;00m \u001b[38;5;167;01mRuntimeError\u001b[39;00m(\u001b[38;5;124mf\u001b[39m\u001b[38;5;124m\"\u001b[39m\u001b[38;5;124mError generating channel response: \u001b[39m\u001b[38;5;132;01m{\u001b[39;00m\u001b[38;5;28mstr\u001b[39m(e)\u001b[38;5;132;01m}\u001b[39;00m\u001b[38;5;124m\"\u001b[39m)\n",
      "\u001b[1;31mRuntimeError\u001b[0m: Error generating channel response: Unknown method 'image'"
     ]
    }
   ],
   "source": [
    "# Initialize configuration\n",
    "config = SmartFactoryConfig()\n",
    "\n",
    "# Create channel generator\n",
    "channel_gen = SmartFactoryChannel(config)\n",
    "\n",
    "# Generate channel\n",
    "channel_data = channel_gen.generate_channel()"
   ]
  },
  {
   "cell_type": "code",
   "execution_count": null,
   "id": "afdb37a9-be65-4969-8739-a2b815fe9a5c",
   "metadata": {},
   "outputs": [],
   "source": []
  }
 ],
 "metadata": {
  "kernelspec": {
   "display_name": "Python 3 (ipykernel)",
   "language": "python",
   "name": "python3"
  },
  "language_info": {
   "codemirror_mode": {
    "name": "ipython",
    "version": 3
   },
   "file_extension": ".py",
   "mimetype": "text/x-python",
   "name": "python",
   "nbconvert_exporter": "python",
   "pygments_lexer": "ipython3",
   "version": "3.11.5"
  }
 },
 "nbformat": 4,
 "nbformat_minor": 5
}
