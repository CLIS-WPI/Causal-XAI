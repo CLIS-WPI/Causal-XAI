{
 "cells": [
  {
   "cell_type": "code",
   "execution_count": 9,
   "id": "c1b6eae8-db86-4af3-abc8-99f8dc70e832",
   "metadata": {},
   "outputs": [
    {
     "name": "stderr",
     "output_type": "stream",
     "text": [
      "INFO:scene_setup:Starting scene setup with ray tracing...\n",
      "DEBUG:scene_setup:Debugging Base station state:\n",
      "DEBUG:scene_setup:- Position: [10.  10.   4.5]\n",
      "DEBUG:scene_setup:- Orientation: [  0.   0. -90.]\n",
      "DEBUG:scene_setup:- Array config: <sionna.rt.antenna_array.PlanarArray object at 0x000001F7FF377D10>\n",
      "DEBUG:scene_setup:Debugging RIS state:\n",
      "DEBUG:scene_setup:- Position: [10.  19.5  2.5]\n",
      "DEBUG:scene_setup:- Orientation: [  0. -90.   0.]\n",
      "DEBUG:scene_setup:Debugging AGV_0 state:\n",
      "DEBUG:scene_setup:- Position: [12.   5.   0.5]\n",
      "DEBUG:scene_setup:- Orientation: [0. 0. 0.]\n",
      "DEBUG:scene_setup:- Array config: <sionna.rt.antenna_array.PlanarArray object at 0x000001F7F6A7FB90>\n",
      "DEBUG:scene_setup:Debugging AGV_1 state:\n",
      "DEBUG:scene_setup:- Position: [ 8.  15.   0.5]\n",
      "DEBUG:scene_setup:- Orientation: [0. 0. 0.]\n",
      "DEBUG:scene_setup:- Array config: <sionna.rt.antenna_array.PlanarArray object at 0x000001F7FF3F5B90>\n",
      "INFO:scene_setup:Scene setup completed successfully\n",
      "INFO:scene_setup:- Transmitters: 7\n",
      "INFO:scene_setup:- Receivers: 2\n",
      "INFO:scene_setup:- RIS: 1\n",
      "INFO:scene_setup:- Objects: 0\n",
      "INFO:scene_setup:- Ray tracing enabled with:\n",
      "INFO:scene_setup:  - LOS: True\n",
      "INFO:scene_setup:  - Reflection: True\n",
      "INFO:scene_setup:  - Diffraction: True\n",
      "INFO:scene_setup:  - Scattering: False\n"
     ]
    },
    {
     "ename": "ValueError",
     "evalue": "Name 'floor' is already used by another item of the scene",
     "output_type": "error",
     "traceback": [
      "\u001b[1;31m---------------------------------------------------------------------------\u001b[0m",
      "\u001b[1;31mValueError\u001b[0m                                Traceback (most recent call last)",
      "Cell \u001b[1;32mIn[9], line 15\u001b[0m\n\u001b[0;32m     12\u001b[0m scene \u001b[38;5;241m=\u001b[39m setup_scene(config)\n\u001b[0;32m     14\u001b[0m \u001b[38;5;66;03m# Create scene manager with both required arguments\u001b[39;00m\n\u001b[1;32m---> 15\u001b[0m scene_manager \u001b[38;5;241m=\u001b[39m \u001b[43mSceneManager\u001b[49m\u001b[43m(\u001b[49m\u001b[43mscene\u001b[49m\u001b[43m,\u001b[49m\u001b[43m \u001b[49m\u001b[43mconfig\u001b[49m\u001b[43m)\u001b[49m\n\u001b[0;32m     17\u001b[0m \u001b[38;5;66;03m# Use scene's preview method to visualize\u001b[39;00m\n\u001b[0;32m     18\u001b[0m scene\u001b[38;5;241m.\u001b[39mpreview()\n",
      "File \u001b[1;32m~\\Desktop\\Causal-XAI\\src\\scene_manager.py:18\u001b[0m, in \u001b[0;36mSceneManager.__init__\u001b[1;34m(self, scene, config)\u001b[0m\n\u001b[0;32m     16\u001b[0m \u001b[38;5;66;03m# Add room boundaries and materials\u001b[39;00m\n\u001b[0;32m     17\u001b[0m \u001b[38;5;28mself\u001b[39m\u001b[38;5;241m.\u001b[39m_add_materials()\n\u001b[1;32m---> 18\u001b[0m \u001b[38;5;28;43mself\u001b[39;49m\u001b[38;5;241;43m.\u001b[39;49m\u001b[43m_add_room_boundaries\u001b[49m\u001b[43m(\u001b[49m\u001b[43m)\u001b[49m\n",
      "File \u001b[1;32m~\\Desktop\\Causal-XAI\\src\\scene_manager.py:60\u001b[0m, in \u001b[0;36mSceneManager._add_room_boundaries\u001b[1;34m(self)\u001b[0m\n\u001b[0;32m     58\u001b[0m boundary\u001b[38;5;241m.\u001b[39mscene \u001b[38;5;241m=\u001b[39m \u001b[38;5;28mself\u001b[39m\u001b[38;5;241m.\u001b[39m_scene\n\u001b[0;32m     59\u001b[0m boundary\u001b[38;5;241m.\u001b[39mradio_material \u001b[38;5;241m=\u001b[39m \u001b[38;5;28mself\u001b[39m\u001b[38;5;241m.\u001b[39m_scene\u001b[38;5;241m.\u001b[39mradio_materials[\u001b[38;5;124m\"\u001b[39m\u001b[38;5;124mconcrete\u001b[39m\u001b[38;5;124m\"\u001b[39m]\n\u001b[1;32m---> 60\u001b[0m \u001b[38;5;28;43mself\u001b[39;49m\u001b[38;5;241;43m.\u001b[39;49m\u001b[43m_scene\u001b[49m\u001b[38;5;241;43m.\u001b[39;49m\u001b[43madd\u001b[49m\u001b[43m(\u001b[49m\u001b[43mboundary\u001b[49m\u001b[43m)\u001b[49m\n",
      "File \u001b[1;32mC:\\Python311\\Lib\\site-packages\\sionna\\rt\\scene.py:438\u001b[0m, in \u001b[0;36mScene.add\u001b[1;34m(self, item)\u001b[0m\n\u001b[0;32m    435\u001b[0m     \u001b[38;5;28;01melse\u001b[39;00m:\n\u001b[0;32m    436\u001b[0m         msg \u001b[38;5;241m=\u001b[39m \u001b[38;5;124mf\u001b[39m\u001b[38;5;124m\"\u001b[39m\u001b[38;5;124mName \u001b[39m\u001b[38;5;124m'\u001b[39m\u001b[38;5;132;01m{\u001b[39;00mname\u001b[38;5;132;01m}\u001b[39;00m\u001b[38;5;124m'\u001b[39m\u001b[38;5;124m is already used by another item of\u001b[39m\u001b[38;5;124m\"\u001b[39m\\\n\u001b[0;32m    437\u001b[0m                \u001b[38;5;124m\"\u001b[39m\u001b[38;5;124m the scene\u001b[39m\u001b[38;5;124m\"\u001b[39m\n\u001b[1;32m--> 438\u001b[0m         \u001b[38;5;28;01mraise\u001b[39;00m \u001b[38;5;167;01mValueError\u001b[39;00m(msg)\n\u001b[0;32m    439\u001b[0m \u001b[38;5;28;01melse\u001b[39;00m:\n\u001b[0;32m    440\u001b[0m     \u001b[38;5;66;03m# This item was already added.\u001b[39;00m\n\u001b[0;32m    441\u001b[0m     \u001b[38;5;28;01mreturn\u001b[39;00m\n",
      "\u001b[1;31mValueError\u001b[0m: Name 'floor' is already used by another item of the scene"
     ]
    }
   ],
   "source": [
    "# Cell 1: Basic imports and setup\n",
    "import tensorflow as tf\n",
    "from config import SmartFactoryConfig\n",
    "from scene_setup import setup_scene\n",
    "from scene_manager import SceneManager\n",
    "import matplotlib.pyplot as plt\n",
    "\n",
    "# Create configuration\n",
    "config = SmartFactoryConfig()\n",
    "\n",
    "# Setup scene\n",
    "scene = setup_scene(config)\n",
    "\n",
    "# Create scene manager with both required arguments\n",
    "scene_manager = SceneManager(scene, config)\n",
    "\n",
    "# Use scene's preview method to visualize\n",
    "scene.preview()\n",
    "plt.show()"
   ]
  },
  {
   "cell_type": "code",
   "execution_count": 8,
   "id": "8e8e25c0-3d97-4247-bf9b-a9bb789dcb08",
   "metadata": {},
   "outputs": [
    {
     "ename": "TypeError",
     "evalue": "SceneManager.__init__() missing 1 required positional argument: 'config'",
     "output_type": "error",
     "traceback": [
      "\u001b[1;31m---------------------------------------------------------------------------\u001b[0m",
      "\u001b[1;31mTypeError\u001b[0m                                 Traceback (most recent call last)",
      "Cell \u001b[1;32mIn[8], line 5\u001b[0m\n\u001b[0;32m      2\u001b[0m \u001b[38;5;28;01mfrom\u001b[39;00m \u001b[38;5;21;01mscene_manager\u001b[39;00m \u001b[38;5;28;01mimport\u001b[39;00m SceneManager\n\u001b[0;32m      4\u001b[0m \u001b[38;5;66;03m# Create scene manager\u001b[39;00m\n\u001b[1;32m----> 5\u001b[0m scene_manager \u001b[38;5;241m=\u001b[39m \u001b[43mSceneManager\u001b[49m\u001b[43m(\u001b[49m\u001b[43mscene\u001b[49m\u001b[43m)\u001b[49m\n\u001b[0;32m      6\u001b[0m \u001b[38;5;28mprint\u001b[39m(\u001b[38;5;124m\"\u001b[39m\u001b[38;5;124mScene Manager:\u001b[39m\u001b[38;5;124m\"\u001b[39m, scene_manager)\n",
      "\u001b[1;31mTypeError\u001b[0m: SceneManager.__init__() missing 1 required positional argument: 'config'"
     ]
    }
   ],
   "source": [
    "# Cell 2: Import scene manager\n",
    "from scene_manager import SceneManager\n",
    "\n",
    "# Create scene manager\n",
    "scene_manager = SceneManager(scene)\n",
    "print(\"Scene Manager:\", scene_manager)"
   ]
  },
  {
   "cell_type": "code",
   "execution_count": 6,
   "id": "34e216a2-ba83-4098-a613-94ad1e211dee",
   "metadata": {},
   "outputs": [],
   "source": [
    "# Cell 3: Use Sionna's visualization method\n",
    "scene.preview()  # Instead of scene.plot()\n",
    "plt.show()"
   ]
  }
 ],
 "metadata": {
  "kernelspec": {
   "display_name": "Python 3 (ipykernel)",
   "language": "python",
   "name": "python3"
  },
  "language_info": {
   "codemirror_mode": {
    "name": "ipython",
    "version": 3
   },
   "file_extension": ".py",
   "mimetype": "text/x-python",
   "name": "python",
   "nbconvert_exporter": "python",
   "pygments_lexer": "ipython3",
   "version": "3.11.5"
  }
 },
 "nbformat": 4,
 "nbformat_minor": 5
}
