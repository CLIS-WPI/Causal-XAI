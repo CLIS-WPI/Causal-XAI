{
 "cells": [
  {
   "cell_type": "code",
   "execution_count": 58,
   "id": "6da27d32-ca55-4cb6-a0dc-e712feda58d2",
   "metadata": {},
   "outputs": [
    {
     "name": "stderr",
     "output_type": "stream",
     "text": [
      "DEBUG:matplotlib.pyplot:Loaded backend nbAgg version unknown.\n"
     ]
    }
   ],
   "source": [
    "import logging\n",
    "logging.getLogger('matplotlib.font_manager').disabled = True\n",
    "%matplotlib notebook\n"
   ]
  },
  {
   "cell_type": "code",
   "execution_count": 59,
   "id": "5b8056f3-5a9a-4e39-ab02-8a3522c9af5b",
   "metadata": {},
   "outputs": [
    {
     "name": "stderr",
     "output_type": "stream",
     "text": [
      "INFO:scene_setup:Starting scene setup with ray tracing...\n",
      "DEBUG:scene_setup:Debugging Base station state:\n",
      "DEBUG:scene_setup:- Position: [10.  10.   4.5]\n",
      "DEBUG:scene_setup:- Orientation: [  0.   0. -90.]\n",
      "DEBUG:scene_setup:- Array config: <sionna.rt.antenna_array.PlanarArray object at 0x000002674000D350>\n",
      "DEBUG:scene_setup:Debugging RIS state:\n",
      "DEBUG:scene_setup:- Position: [10.  19.5  2.5]\n",
      "DEBUG:scene_setup:- Orientation: [  0. -90.   0.]\n",
      "DEBUG:scene_setup:Debugging AGV_0 state:\n",
      "DEBUG:scene_setup:- Position: [12.   5.   0.5]\n",
      "DEBUG:scene_setup:- Orientation: [0. 0. 0.]\n",
      "DEBUG:scene_setup:- Array config: <sionna.rt.antenna_array.PlanarArray object at 0x000002673BBC0250>\n",
      "DEBUG:scene_setup:Debugging AGV_1 state:\n",
      "DEBUG:scene_setup:- Position: [ 8.  15.   0.5]\n",
      "DEBUG:scene_setup:- Orientation: [0. 0. 0.]\n",
      "DEBUG:scene_setup:- Array config: <sionna.rt.antenna_array.PlanarArray object at 0x00000266CAA14690>\n",
      "INFO:scene_setup:Scene setup completed successfully\n",
      "INFO:scene_setup:- Transmitters: 7\n",
      "INFO:scene_setup:- Receivers: 2\n",
      "INFO:scene_setup:- RIS: 1\n",
      "INFO:scene_setup:- Objects: 0\n",
      "INFO:scene_setup:- Ray tracing enabled with:\n",
      "INFO:scene_setup:  - LOS: True\n",
      "INFO:scene_setup:  - Reflection: True\n",
      "INFO:scene_setup:  - Diffraction: True\n",
      "INFO:scene_setup:  - Scattering: False\n"
     ]
    },
    {
     "name": "stdout",
     "output_type": "stream",
     "text": [
      "XLA can lead to reduced numerical precision. Use with care.\n"
     ]
    }
   ],
   "source": [
    "import matplotlib.pyplot as plt\n",
    "import numpy as np\n",
    "import tensorflow as tf\n",
    "from config import SmartFactoryConfig\n",
    "from scene_setup import setup_scene\n",
    "from channel_generator import SmartFactoryChannel\n",
    "\n",
    "# Create config and scene\n",
    "config = SmartFactoryConfig()\n",
    "scene = setup_scene(config)\n",
    "\n",
    "# Create channel generator\n",
    "channel_gen = SmartFactoryChannel(config, scene)\n",
    "\n",
    "# Generate channel data\n",
    "channel_data = channel_gen.generate_channel()"
   ]
  }
 ],
 "metadata": {
  "kernelspec": {
   "display_name": "Python 3 (ipykernel)",
   "language": "python",
   "name": "python3"
  },
  "language_info": {
   "codemirror_mode": {
    "name": "ipython",
    "version": 3
   },
   "file_extension": ".py",
   "mimetype": "text/x-python",
   "name": "python",
   "nbconvert_exporter": "python",
   "pygments_lexer": "ipython3",
   "version": "3.11.5"
  }
 },
 "nbformat": 4,
 "nbformat_minor": 5
}
