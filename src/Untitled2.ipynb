{
 "cells": [
  {
   "cell_type": "code",
   "execution_count": 12,
   "id": "6da27d32-ca55-4cb6-a0dc-e712feda58d2",
   "metadata": {},
   "outputs": [
    {
     "name": "stderr",
     "output_type": "stream",
     "text": [
      "DEBUG:matplotlib.pyplot:Loaded backend module://matplotlib_inline.backend_inline version unknown.\n",
      "DEBUG:matplotlib.pyplot:Loaded backend module://matplotlib_inline.backend_inline version unknown.\n",
      "UsageError: unrecognized arguments: # For interactive 3D plots\n"
     ]
    }
   ],
   "source": [
    "%matplotlib inline\n",
    "%matplotlib notebook  # For interactive 3D plots"
   ]
  },
  {
   "cell_type": "code",
   "execution_count": 13,
   "id": "5b8056f3-5a9a-4e39-ab02-8a3522c9af5b",
   "metadata": {},
   "outputs": [
    {
     "name": "stderr",
     "output_type": "stream",
     "text": [
      "INFO:scene_setup:Starting scene setup with ray tracing...\n",
      "DEBUG:scene_setup:Debugging Base station state:\n",
      "DEBUG:scene_setup:- Position: [10.  10.   4.5]\n",
      "DEBUG:scene_setup:- Orientation: [  0.   0. -90.]\n",
      "DEBUG:scene_setup:- Array config: <sionna.rt.antenna_array.PlanarArray object at 0x00000267238B58D0>\n",
      "DEBUG:scene_setup:Debugging RIS state:\n",
      "DEBUG:scene_setup:- Position: [10.  19.5  2.5]\n",
      "DEBUG:scene_setup:- Orientation: [  0. -90.   0.]\n",
      "DEBUG:scene_setup:Debugging AGV_0 state:\n",
      "DEBUG:scene_setup:- Position: [12.   5.   0.5]\n",
      "DEBUG:scene_setup:- Orientation: [0. 0. 0.]\n",
      "DEBUG:scene_setup:- Array config: <sionna.rt.antenna_array.PlanarArray object at 0x00000266CAA06510>\n",
      "DEBUG:scene_setup:Debugging AGV_1 state:\n",
      "DEBUG:scene_setup:- Position: [ 8.  15.   0.5]\n",
      "DEBUG:scene_setup:- Orientation: [0. 0. 0.]\n",
      "DEBUG:scene_setup:- Array config: <sionna.rt.antenna_array.PlanarArray object at 0x000002672390E690>\n",
      "INFO:scene_setup:Scene setup completed successfully\n",
      "INFO:scene_setup:- Transmitters: 7\n",
      "INFO:scene_setup:- Receivers: 2\n",
      "INFO:scene_setup:- RIS: 1\n",
      "INFO:scene_setup:- Objects: 0\n",
      "INFO:scene_setup:- Ray tracing enabled with:\n",
      "INFO:scene_setup:  - LOS: True\n",
      "INFO:scene_setup:  - Reflection: True\n",
      "INFO:scene_setup:  - Diffraction: True\n",
      "INFO:scene_setup:  - Scattering: False\n"
     ]
    },
    {
     "name": "stdout",
     "output_type": "stream",
     "text": [
      "XLA can lead to reduced numerical precision. Use with care.\n"
     ]
    }
   ],
   "source": [
    "import matplotlib.pyplot as plt\n",
    "import numpy as np\n",
    "import tensorflow as tf\n",
    "from config import SmartFactoryConfig\n",
    "from scene_setup import setup_scene\n",
    "from channel_generator import SmartFactoryChannel\n",
    "\n",
    "# Create config and scene\n",
    "config = SmartFactoryConfig()\n",
    "scene = setup_scene(config)\n",
    "\n",
    "# Create channel generator\n",
    "channel_gen = SmartFactoryChannel(config, scene)\n",
    "\n",
    "# Generate channel data\n",
    "channel_data = channel_gen.generate_channel()"
   ]
  },
  {
   "cell_type": "code",
   "execution_count": null,
   "id": "ee6ced15-87cd-4a45-bc3a-ec2f68e1624f",
   "metadata": {},
   "outputs": [],
   "source": [
    "# Visualization functions\n",
    "def plot_channel_magnitude(channel_matrix):\n",
    "    \"\"\"Plot channel magnitude response\"\"\"\n",
    "    plt.figure(figsize=(10,6))\n",
    "    magnitude_db = 20 * np.log10(np.abs(channel_matrix.numpy()))\n",
    "    plt.imshow(magnitude_db, aspect='auto', cmap='viridis')\n",
    "    plt.colorbar(label='Magnitude (dB)')\n",
    "    plt.xlabel('Subcarrier Index')\n",
    "    plt.ylabel('Antenna Index')\n",
    "    plt.title('Channel Magnitude Response')\n",
    "    plt.show()\n",
    "\n",
    "def plot_path_delays(path_delays):\n",
    "    \"\"\"Plot histogram of path delays\"\"\"\n",
    "    plt.figure(figsize=(10,6))\n",
    "    plt.hist(path_delays.numpy().flatten(), bins=50)\n",
    "    plt.xlabel('Delay (s)')\n",
    "    plt.ylabel('Count')\n",
    "    plt.title('Path Delay Distribution')\n",
    "    plt.grid(True)\n",
    "    plt.show()"
   ]
  },
  {
   "cell_type": "code",
   "execution_count": 14,
   "id": "e63fdf6b-82c6-4c3d-b7d2-5646c16ce588",
   "metadata": {},
   "outputs": [
    {
     "name": "stdout",
     "output_type": "stream",
     "text": [
      "\n",
      "Channel Statistics:\n"
     ]
    },
    {
     "ename": "KeyError",
     "evalue": "'channel_matrices'",
     "output_type": "error",
     "traceback": [
      "\u001b[1;31m---------------------------------------------------------------------------\u001b[0m",
      "\u001b[1;31mKeyError\u001b[0m                                  Traceback (most recent call last)",
      "Cell \u001b[1;32mIn[14], line 10\u001b[0m\n\u001b[0;32m      8\u001b[0m \u001b[38;5;66;03m# Print channel statistics\u001b[39;00m\n\u001b[0;32m      9\u001b[0m \u001b[38;5;28mprint\u001b[39m(\u001b[38;5;124m\"\u001b[39m\u001b[38;5;130;01m\\n\u001b[39;00m\u001b[38;5;124mChannel Statistics:\u001b[39m\u001b[38;5;124m\"\u001b[39m)\n\u001b[1;32m---> 10\u001b[0m \u001b[38;5;28mprint\u001b[39m(\u001b[38;5;124mf\u001b[39m\u001b[38;5;124m\"\u001b[39m\u001b[38;5;124mChannel matrix shape: \u001b[39m\u001b[38;5;132;01m{\u001b[39;00m\u001b[43mchannel_data\u001b[49m\u001b[43m[\u001b[49m\u001b[38;5;124;43m'\u001b[39;49m\u001b[38;5;124;43mchannel_matrices\u001b[39;49m\u001b[38;5;124;43m'\u001b[39;49m\u001b[43m]\u001b[49m\u001b[38;5;241m.\u001b[39mshape\u001b[38;5;132;01m}\u001b[39;00m\u001b[38;5;124m\"\u001b[39m)\n\u001b[0;32m     11\u001b[0m \u001b[38;5;28mprint\u001b[39m(\u001b[38;5;124mf\u001b[39m\u001b[38;5;124m\"\u001b[39m\u001b[38;5;124mMaximum magnitude: \u001b[39m\u001b[38;5;132;01m{\u001b[39;00mnp\u001b[38;5;241m.\u001b[39mmax(np\u001b[38;5;241m.\u001b[39mabs(channel_data[\u001b[38;5;124m'\u001b[39m\u001b[38;5;124mchannel_matrices\u001b[39m\u001b[38;5;124m'\u001b[39m]\u001b[38;5;241m.\u001b[39mnumpy()))\u001b[38;5;132;01m:\u001b[39;00m\u001b[38;5;124m.2f\u001b[39m\u001b[38;5;132;01m}\u001b[39;00m\u001b[38;5;124m\"\u001b[39m)\n\u001b[0;32m     12\u001b[0m \u001b[38;5;28mprint\u001b[39m(\u001b[38;5;124mf\u001b[39m\u001b[38;5;124m\"\u001b[39m\u001b[38;5;124mMinimum magnitude: \u001b[39m\u001b[38;5;132;01m{\u001b[39;00mnp\u001b[38;5;241m.\u001b[39mmin(np\u001b[38;5;241m.\u001b[39mabs(channel_data[\u001b[38;5;124m'\u001b[39m\u001b[38;5;124mchannel_matrices\u001b[39m\u001b[38;5;124m'\u001b[39m]\u001b[38;5;241m.\u001b[39mnumpy()))\u001b[38;5;132;01m:\u001b[39;00m\u001b[38;5;124m.2f\u001b[39m\u001b[38;5;132;01m}\u001b[39;00m\u001b[38;5;124m\"\u001b[39m)\n",
      "\u001b[1;31mKeyError\u001b[0m: 'channel_matrices'"
     ]
    }
   ],
   "source": [
    "# Visualize channel data\n",
    "if 'channel_matrices' in channel_data:\n",
    "    plot_channel_magnitude(channel_data['channel_matrices'])\n",
    "\n",
    "if 'path_delays' in channel_data:\n",
    "    plot_path_delays(channel_data['path_delays'])\n",
    "\n",
    "# Print channel statistics\n",
    "print(\"\\nChannel Statistics:\")\n",
    "print(f\"Channel matrix shape: {channel_data['channel_matrices'].shape}\")\n",
    "print(f\"Maximum magnitude: {np.max(np.abs(channel_data['channel_matrices'].numpy())):.2f}\")\n",
    "print(f\"Minimum magnitude: {np.min(np.abs(channel_data['channel_matrices'].numpy())):.2f}\")"
   ]
  },
  {
   "cell_type": "code",
   "execution_count": 15,
   "id": "f932390f-1698-4f95-8396-2c1519fdd463",
   "metadata": {},
   "outputs": [
    {
     "ename": "TypeError",
     "evalue": "Scene.render() got an unexpected keyword argument 'elevation'",
     "output_type": "error",
     "traceback": [
      "\u001b[1;31m---------------------------------------------------------------------------\u001b[0m",
      "\u001b[1;31mTypeError\u001b[0m                                 Traceback (most recent call last)",
      "Cell \u001b[1;32mIn[15], line 5\u001b[0m\n\u001b[0;32m      2\u001b[0m scene\u001b[38;5;241m.\u001b[39mpreview()  \u001b[38;5;66;03m# This will show the interactive 3D view of your environment\u001b[39;00m\n\u001b[0;32m      4\u001b[0m \u001b[38;5;66;03m# You can also render specific views\u001b[39;00m\n\u001b[1;32m----> 5\u001b[0m \u001b[43mscene\u001b[49m\u001b[38;5;241;43m.\u001b[39;49m\u001b[43mrender\u001b[49m\u001b[43m(\u001b[49m\u001b[43melevation\u001b[49m\u001b[38;5;241;43m=\u001b[39;49m\u001b[38;5;241;43m45\u001b[39;49m\u001b[43m,\u001b[49m\u001b[43m \u001b[49m\u001b[43mazimuth\u001b[49m\u001b[38;5;241;43m=\u001b[39;49m\u001b[38;5;241;43m45\u001b[39;49m\u001b[43m)\u001b[49m  \u001b[38;5;66;03m# Shows the scene from a 45-degree angle\u001b[39;00m\n\u001b[0;32m      7\u001b[0m \u001b[38;5;66;03m# To visualize with paths\u001b[39;00m\n\u001b[0;32m      8\u001b[0m paths \u001b[38;5;241m=\u001b[39m scene\u001b[38;5;241m.\u001b[39mcompute_paths()\n",
      "\u001b[1;31mTypeError\u001b[0m: Scene.render() got an unexpected keyword argument 'elevation'"
     ]
    }
   ],
   "source": [
    "# 3D Scene Visualization\n",
    "scene.preview()  # This will show the interactive 3D view of your environment\n",
    "\n",
    "# You can also render specific views\n",
    "scene.render(elevation=45, azimuth=45)  # Shows the scene from a 45-degree angle\n",
    "\n",
    "# To visualize with paths\n",
    "paths = scene.compute_paths()\n",
    "scene.preview(paths=paths)  # Shows the scene with ray paths"
   ]
  },
  {
   "cell_type": "code",
   "execution_count": null,
   "id": "bca49c1d-b0b1-4cec-9d11-69c808159953",
   "metadata": {},
   "outputs": [],
   "source": []
  }
 ],
 "metadata": {
  "kernelspec": {
   "display_name": "Python 3 (ipykernel)",
   "language": "python",
   "name": "python3"
  },
  "language_info": {
   "codemirror_mode": {
    "name": "ipython",
    "version": 3
   },
   "file_extension": ".py",
   "mimetype": "text/x-python",
   "name": "python",
   "nbconvert_exporter": "python",
   "pygments_lexer": "ipython3",
   "version": "3.11.5"
  }
 },
 "nbformat": 4,
 "nbformat_minor": 5
}
