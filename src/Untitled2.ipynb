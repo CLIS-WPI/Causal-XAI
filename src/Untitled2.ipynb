{
 "cells": [
  {
   "cell_type": "code",
   "execution_count": 29,
   "id": "df3cb5fd-99be-41a9-8e64-90f8ad76ddcd",
   "metadata": {},
   "outputs": [
    {
     "name": "stderr",
     "output_type": "stream",
     "text": [
      "INFO:scene_setup:Starting scene setup with ray tracing...\n",
      "DEBUG:scene_setup:Debugging Base station state:\n"
     ]
    },
    {
     "name": "stdout",
     "output_type": "stream",
     "text": [
      "XLA can lead to reduced numerical precision. Use with care.\n"
     ]
    },
    {
     "name": "stderr",
     "output_type": "stream",
     "text": [
      "DEBUG:scene_setup:- Position: [10.  10.   4.5]\n",
      "DEBUG:scene_setup:- Orientation: [  0.   0. -90.]\n",
      "DEBUG:scene_setup:- Array config: <sionna.rt.antenna_array.PlanarArray object at 0x000001CBB3662990>\n",
      "DEBUG:scene_setup:Debugging RIS state:\n",
      "DEBUG:scene_setup:- Position: [10.  19.5  2.5]\n",
      "DEBUG:scene_setup:- Orientation: [  0. -90.   0.]\n",
      "DEBUG:scene_setup:Debugging AGV_0 state:\n",
      "DEBUG:scene_setup:- Position: [12.   5.   0.5]\n",
      "DEBUG:scene_setup:- Orientation: [0. 0. 0.]\n",
      "DEBUG:scene_setup:- Array config: <sionna.rt.antenna_array.PlanarArray object at 0x000001CBB3661310>\n",
      "DEBUG:scene_setup:Debugging AGV_1 state:\n",
      "DEBUG:scene_setup:- Position: [ 8.  15.   0.5]\n",
      "DEBUG:scene_setup:- Orientation: [0. 0. 0.]\n",
      "DEBUG:scene_setup:- Array config: <sionna.rt.antenna_array.PlanarArray object at 0x000001CBB30EB250>\n",
      "INFO:scene_setup:Scene setup completed successfully\n",
      "INFO:scene_setup:- Transmitters: 7\n",
      "INFO:scene_setup:- Receivers: 2\n",
      "INFO:scene_setup:- RIS: 1\n",
      "INFO:scene_setup:- Objects: 0\n",
      "INFO:scene_setup:- Ray tracing enabled with:\n",
      "INFO:scene_setup:  - LOS: True\n",
      "INFO:scene_setup:  - Reflection: True\n",
      "INFO:scene_setup:  - Diffraction: True\n",
      "INFO:scene_setup:  - Scattering: False\n"
     ]
    },
    {
     "name": "stdout",
     "output_type": "stream",
     "text": [
      "Generating channel data...\n",
      "Generating channel data...\n",
      "Channel data generation completed\n",
      "Channel data saved to: C:\\Users\\snatanzi\\Desktop\\Causal-XAI\\src\\results\\channel_data.h5\n",
      "\n",
      "Channel Data Statistics:\n",
      "Channel matrices shape: (1, 2, 1, 7, 128, 1, 1024)\n",
      "Path delays shape: (1, 2, 7, 2)\n",
      "Number of receivers: 2\n",
      "Execution completed\n"
     ]
    },
    {
     "data": {
      "text/plain": [
       "<Figure size 640x480 with 0 Axes>"
      ]
     },
     "metadata": {},
     "output_type": "display_data"
    }
   ],
   "source": [
    "%run main.py"
   ]
  },
  {
   "cell_type": "code",
   "execution_count": null,
   "id": "d7f5d9cf-8665-4ac9-baa4-c26e2a60e12f",
   "metadata": {},
   "outputs": [],
   "source": []
  }
 ],
 "metadata": {
  "kernelspec": {
   "display_name": "Python 3 (ipykernel)",
   "language": "python",
   "name": "python3"
  },
  "language_info": {
   "codemirror_mode": {
    "name": "ipython",
    "version": 3
   },
   "file_extension": ".py",
   "mimetype": "text/x-python",
   "name": "python",
   "nbconvert_exporter": "python",
   "pygments_lexer": "ipython3",
   "version": "3.11.5"
  }
 },
 "nbformat": 4,
 "nbformat_minor": 5
}
