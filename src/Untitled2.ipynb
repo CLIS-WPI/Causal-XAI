{
 "cells": [
  {
   "cell_type": "code",
   "execution_count": 14,
   "id": "c1b6eae8-db86-4af3-abc8-99f8dc70e832",
   "metadata": {},
   "outputs": [
    {
     "name": "stderr",
     "output_type": "stream",
     "text": [
      "INFO:scene_setup:Starting scene setup with ray tracing...\n",
      "DEBUG:scene_setup:Debugging Base station state:\n",
      "DEBUG:scene_setup:- Position: [10.  10.   4.5]\n",
      "DEBUG:scene_setup:- Orientation: [  0.   0. -90.]\n",
      "DEBUG:scene_setup:- Array config: <sionna.rt.antenna_array.PlanarArray object at 0x000001F81FA8F810>\n",
      "DEBUG:scene_setup:Debugging RIS state:\n",
      "DEBUG:scene_setup:- Position: [10.  19.5  2.5]\n",
      "DEBUG:scene_setup:- Orientation: [  0. -90.   0.]\n",
      "DEBUG:scene_setup:Debugging AGV_0 state:\n",
      "DEBUG:scene_setup:- Position: [12.   5.   0.5]\n",
      "DEBUG:scene_setup:- Orientation: [0. 0. 0.]\n",
      "DEBUG:scene_setup:- Array config: <sionna.rt.antenna_array.PlanarArray object at 0x000001F81F798B90>\n",
      "DEBUG:scene_setup:Debugging AGV_1 state:\n",
      "DEBUG:scene_setup:- Position: [ 8.  15.   0.5]\n",
      "DEBUG:scene_setup:- Orientation: [0. 0. 0.]\n",
      "DEBUG:scene_setup:- Array config: <sionna.rt.antenna_array.PlanarArray object at 0x000001F8269229D0>\n",
      "INFO:scene_setup:Scene setup completed successfully\n",
      "INFO:scene_setup:- Transmitters: 7\n",
      "INFO:scene_setup:- Receivers: 2\n",
      "INFO:scene_setup:- RIS: 1\n",
      "INFO:scene_setup:- Objects: 0\n",
      "INFO:scene_setup:- Ray tracing enabled with:\n",
      "INFO:scene_setup:  - LOS: True\n",
      "INFO:scene_setup:  - Reflection: True\n",
      "INFO:scene_setup:  - Diffraction: True\n",
      "INFO:scene_setup:  - Scattering: False\n"
     ]
    }
   ],
   "source": [
    "# Cell 1: Basic imports and setup\n",
    "import tensorflow as tf\n",
    "from config import SmartFactoryConfig\n",
    "from scene_setup import setup_scene\n",
    "import matplotlib.pyplot as plt\n",
    "\n",
    "# Create configuration and scene\n",
    "config = SmartFactoryConfig()\n",
    "scene = setup_scene(config)\n",
    "\n",
    "# Simply call preview() without any parameters\n",
    "scene.preview()\n",
    "plt.show()"
   ]
  },
  {
   "cell_type": "code",
   "execution_count": 29,
   "id": "8e8e25c0-3d97-4247-bf9b-a9bb789dcb08",
   "metadata": {},
   "outputs": [
    {
     "name": "stderr",
     "output_type": "stream",
     "text": [
      "INFO:scene_setup:Starting scene setup with ray tracing...\n"
     ]
    },
    {
     "name": "stdout",
     "output_type": "stream",
     "text": [
      "XLA can lead to reduced numerical precision. Use with care.\n"
     ]
    },
    {
     "name": "stderr",
     "output_type": "stream",
     "text": [
      "DEBUG:scene_setup:Debugging Base station state:\n",
      "DEBUG:scene_setup:- Position: [10.  10.   4.5]\n",
      "DEBUG:scene_setup:- Orientation: [  0.   0. -90.]\n",
      "DEBUG:scene_setup:- Array config: <sionna.rt.antenna_array.PlanarArray object at 0x000001F82DE3A650>\n",
      "DEBUG:scene_setup:Debugging RIS state:\n",
      "DEBUG:scene_setup:- Position: [10.  19.5  2.5]\n",
      "DEBUG:scene_setup:- Orientation: [  0. -90.   0.]\n",
      "DEBUG:scene_setup:Debugging AGV_0 state:\n",
      "DEBUG:scene_setup:- Position: [12.   5.   0.5]\n",
      "DEBUG:scene_setup:- Orientation: [0. 0. 0.]\n",
      "DEBUG:scene_setup:- Array config: <sionna.rt.antenna_array.PlanarArray object at 0x000001F82DE39D50>\n",
      "DEBUG:scene_setup:Debugging AGV_1 state:\n",
      "DEBUG:scene_setup:- Position: [ 8.  15.   0.5]\n",
      "DEBUG:scene_setup:- Orientation: [0. 0. 0.]\n",
      "DEBUG:scene_setup:- Array config: <sionna.rt.antenna_array.PlanarArray object at 0x000001F827979810>\n",
      "INFO:scene_setup:Scene setup completed successfully\n",
      "INFO:scene_setup:- Transmitters: 7\n",
      "INFO:scene_setup:- Receivers: 2\n",
      "INFO:scene_setup:- RIS: 1\n",
      "INFO:scene_setup:- Objects: 0\n",
      "INFO:scene_setup:- Ray tracing enabled with:\n",
      "INFO:scene_setup:  - LOS: True\n",
      "INFO:scene_setup:  - Reflection: True\n",
      "INFO:scene_setup:  - Diffraction: True\n",
      "INFO:scene_setup:  - Scattering: False\n"
     ]
    },
    {
     "name": "stdout",
     "output_type": "stream",
     "text": [
      "\n",
      "Paths Information:\n",
      "LOS paths exist: True\n",
      "\n",
      "CIR Analysis:\n",
      "a shape: (1, 2, 1, 7, 128, 2, 1)\n",
      "tau shape: (1, 2, 7, 2)\n",
      "\n",
      "Channel Matrix Analysis:\n",
      "Shape: (1, 2, 1, 7, 128, 1, 1024)\n",
      "Contains NaN: True\n",
      "Warning: NaN values detected in channel matrix\n"
     ]
    }
   ],
   "source": [
    "# Cell 2: Testing channel generation with proper error handling\n",
    "from channel_generator import SmartFactoryChannel\n",
    "from config import SmartFactoryConfig\n",
    "import tensorflow as tf\n",
    "import matplotlib.pyplot as plt\n",
    "import sionna\n",
    "\n",
    "# Create configuration and initialize channel generator\n",
    "config = SmartFactoryConfig()\n",
    "channel_gen = SmartFactoryChannel(config)\n",
    "\n",
    "try:\n",
    "    # Generate channel data\n",
    "    channel_data = channel_gen.generate_channel()\n",
    "    \n",
    "    # Get paths and check validity\n",
    "    paths = channel_data['paths']\n",
    "    print(\"\\nPaths Information:\")\n",
    "    print(f\"LOS paths exist: {paths.LOS is not None}\")\n",
    "    \n",
    "    # Get CIR and convert to channel frequency response\n",
    "    a, tau = paths.cir()\n",
    "    print(\"\\nCIR Analysis:\")\n",
    "    print(f\"a shape: {a.shape}\")\n",
    "    print(f\"tau shape: {tau.shape}\")\n",
    "    \n",
    "    # Calculate frequencies\n",
    "    frequencies = tf.range(config.num_subcarriers, dtype=tf.float32) * config.subcarrier_spacing\n",
    "    \n",
    "    # Convert CIR to frequency domain using Sionna's utility\n",
    "    h = sionna.channel.utils.cir_to_ofdm_channel(\n",
    "        frequencies=frequencies,\n",
    "        a=tf.cast(a, tf.complex64),\n",
    "        tau=tf.cast(tau, tf.float32),\n",
    "        normalize=False\n",
    "    )\n",
    "    \n",
    "    print(\"\\nChannel Matrix Analysis:\")\n",
    "    print(f\"Shape: {h.shape}\")\n",
    "    h_magnitude = tf.abs(h)\n",
    "    print(f\"Contains NaN: {tf.reduce_any(tf.math.is_nan(h_magnitude))}\")\n",
    "    \n",
    "    if not tf.reduce_any(tf.math.is_nan(h_magnitude)):\n",
    "        print(f\"Maximum magnitude: {tf.reduce_max(h_magnitude):.2e}\")\n",
    "        print(f\"Minimum magnitude: {tf.reduce_min(h_magnitude):.2e}\")\n",
    "        \n",
    "        # Plot channel magnitude\n",
    "        plt.figure(figsize=(10, 6))\n",
    "        h_mag = h_magnitude[0, 0, 0, 0, :, 0, :]  # Take first instance\n",
    "        plt.imshow(h_mag.numpy(), aspect='auto', cmap='viridis')\n",
    "        plt.colorbar(label='Magnitude')\n",
    "        plt.title('Channel Magnitude')\n",
    "        plt.xlabel('Subcarrier Index')\n",
    "        plt.ylabel('Antenna Index')\n",
    "        plt.show()\n",
    "    else:\n",
    "        print(\"Warning: NaN values detected in channel matrix\")\n",
    "        \n",
    "except Exception as e:\n",
    "    print(f\"Error during channel generation: {str(e)}\")\n",
    "    import traceback\n",
    "    traceback.print_exc()"
   ]
  },
  {
   "cell_type": "code",
   "execution_count": 25,
   "id": "34e216a2-ba83-4098-a613-94ad1e211dee",
   "metadata": {},
   "outputs": [],
   "source": [
    "# Cell 3: Use Sionna's visualization method\n",
    "scene.preview()  # Instead of scene.plot()\n",
    "plt.show()"
   ]
  },
  {
   "cell_type": "code",
   "execution_count": null,
   "id": "8d9cf17f-803d-48fd-956e-87dae3eb8f90",
   "metadata": {},
   "outputs": [],
   "source": []
  }
 ],
 "metadata": {
  "kernelspec": {
   "display_name": "Python 3 (ipykernel)",
   "language": "python",
   "name": "python3"
  },
  "language_info": {
   "codemirror_mode": {
    "name": "ipython",
    "version": 3
   },
   "file_extension": ".py",
   "mimetype": "text/x-python",
   "name": "python",
   "nbconvert_exporter": "python",
   "pygments_lexer": "ipython3",
   "version": "3.11.5"
  }
 },
 "nbformat": 4,
 "nbformat_minor": 5
}
