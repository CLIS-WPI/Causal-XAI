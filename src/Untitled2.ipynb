{
 "cells": [
  {
   "cell_type": "code",
   "execution_count": 6,
   "id": "df3cb5fd-99be-41a9-8e64-90f8ad76ddcd",
   "metadata": {},
   "outputs": [
    {
     "name": "stderr",
     "output_type": "stream",
     "text": [
      "INFO:scene_setup:Starting scene setup with ray tracing...\n",
      "DEBUG:scene_setup:Debugging Base station state:\n"
     ]
    },
    {
     "name": "stdout",
     "output_type": "stream",
     "text": [
      "XLA can lead to reduced numerical precision. Use with care.\n"
     ]
    },
    {
     "name": "stderr",
     "output_type": "stream",
     "text": [
      "DEBUG:scene_setup:- Position: [10.  10.   4.5]\n",
      "DEBUG:scene_setup:- Orientation: [  0.   0. -90.]\n",
      "DEBUG:scene_setup:- Array config: <sionna.rt.antenna_array.PlanarArray object at 0x0000026723944550>\n",
      "DEBUG:scene_setup:Debugging RIS state:\n",
      "DEBUG:scene_setup:- Position: [10.  19.5  2.5]\n",
      "DEBUG:scene_setup:- Orientation: [  0. -90.   0.]\n",
      "DEBUG:scene_setup:Debugging AGV_0 state:\n",
      "DEBUG:scene_setup:- Position: [12.   5.   0.5]\n",
      "DEBUG:scene_setup:- Orientation: [0. 0. 0.]\n",
      "DEBUG:scene_setup:- Array config: <sionna.rt.antenna_array.PlanarArray object at 0x00000266CAA5E510>\n",
      "DEBUG:scene_setup:Debugging AGV_1 state:\n",
      "DEBUG:scene_setup:- Position: [ 8.  15.   0.5]\n",
      "DEBUG:scene_setup:- Orientation: [0. 0. 0.]\n",
      "DEBUG:scene_setup:- Array config: <sionna.rt.antenna_array.PlanarArray object at 0x00000266CAA2ED10>\n",
      "INFO:scene_setup:Scene setup completed successfully\n",
      "INFO:scene_setup:- Transmitters: 7\n",
      "INFO:scene_setup:- Receivers: 2\n",
      "INFO:scene_setup:- RIS: 1\n",
      "INFO:scene_setup:- Objects: 0\n",
      "INFO:scene_setup:- Ray tracing enabled with:\n",
      "INFO:scene_setup:  - LOS: True\n",
      "INFO:scene_setup:  - Reflection: True\n",
      "INFO:scene_setup:  - Diffraction: True\n",
      "INFO:scene_setup:  - Scattering: False\n"
     ]
    },
    {
     "name": "stdout",
     "output_type": "stream",
     "text": [
      "Generating channel data...\n",
      "Generating channel data...\n",
      "Channel data generation completed\n",
      "Channel data saved to: C:\\Users\\snatanzi\\Desktop\\Causal-XAI\\src\\results\\channel_data.h5\n",
      "\n",
      "Channel Data Statistics:\n",
      "Channel matrices shape: (1, 2, 1, 7, 128, 1, 1024)\n",
      "Path delays shape: (1, 2, 7, 2)\n",
      "Number of receivers: 2\n",
      "Execution completed\n"
     ]
    }
   ],
   "source": [
    "%run main.py"
   ]
  },
  {
   "cell_type": "code",
   "execution_count": 7,
   "id": "26ed5ffd-9ce4-434d-a327-9c5684c1d5ae",
   "metadata": {},
   "outputs": [
    {
     "ename": "NameError",
     "evalue": "name 'config' is not defined",
     "output_type": "error",
     "traceback": [
      "\u001b[1;31m---------------------------------------------------------------------------\u001b[0m",
      "\u001b[1;31mNameError\u001b[0m                                 Traceback (most recent call last)",
      "Cell \u001b[1;32mIn[7], line 2\u001b[0m\n\u001b[0;32m      1\u001b[0m \u001b[38;5;66;03m# After running main.py, add these lines to visualize the scene\u001b[39;00m\n\u001b[1;32m----> 2\u001b[0m scene \u001b[38;5;241m=\u001b[39m setup_scene(\u001b[43mconfig\u001b[49m)  \u001b[38;5;66;03m# Get your scene\u001b[39;00m\n\u001b[0;32m      4\u001b[0m \u001b[38;5;66;03m# Preview the scene interactively (in Jupyter)\u001b[39;00m\n\u001b[0;32m      5\u001b[0m scene\u001b[38;5;241m.\u001b[39mpreview()\n",
      "\u001b[1;31mNameError\u001b[0m: name 'config' is not defined"
     ]
    }
   ],
   "source": [
    "# After running main.py, add these lines to visualize the scene\n",
    "scene = setup_scene(config)  # Get your scene\n",
    "\n",
    "# Preview the scene interactively (in Jupyter)\n",
    "scene.preview()\n",
    "\n",
    "# Or render with specific camera angles\n",
    "scene.render(camera=\"Camera.001\")  # Try different camera numbers\n",
    "\n",
    "# To visualize with paths\n",
    "paths = scene.compute_paths()\n",
    "scene.preview(paths=paths)\n",
    "\n",
    "# Save the scene for later use\n",
    "scene.save('factory_scene.xml')"
   ]
  },
  {
   "cell_type": "code",
   "execution_count": null,
   "id": "cd7d9b03-8fa9-427c-a4d5-e35c7d7582be",
   "metadata": {},
   "outputs": [],
   "source": []
  }
 ],
 "metadata": {
  "kernelspec": {
   "display_name": "Python 3 (ipykernel)",
   "language": "python",
   "name": "python3"
  },
  "language_info": {
   "codemirror_mode": {
    "name": "ipython",
    "version": 3
   },
   "file_extension": ".py",
   "mimetype": "text/x-python",
   "name": "python",
   "nbconvert_exporter": "python",
   "pygments_lexer": "ipython3",
   "version": "3.11.5"
  }
 },
 "nbformat": 4,
 "nbformat_minor": 5
}
