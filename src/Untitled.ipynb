{
 "cells": [
  {
   "cell_type": "code",
   "execution_count": 1,
   "id": "87572bcd-7b80-4076-9a6c-5115a3c9ef8d",
   "metadata": {},
   "outputs": [],
   "source": [
    "from plyfile import PlyData, PlyElement"
   ]
  },
  {
   "cell_type": "code",
   "execution_count": 7,
   "id": "e0565938-d4e3-42c9-a1cc-c3969ef62399",
   "metadata": {},
   "outputs": [
    {
     "ename": "SyntaxError",
     "evalue": "(unicode error) 'unicodeescape' codec can't decode bytes in position 2-3: truncated \\UXXXXXXXX escape (3737029784.py, line 1)",
     "output_type": "error",
     "traceback": [
      "\u001b[1;36m  Cell \u001b[1;32mIn[7], line 1\u001b[1;36m\u001b[0m\n\u001b[1;33m    plydata = PlyData.read('C:\\Users\\snatanzi\\Downloads\\floor(2).ply')\u001b[0m\n\u001b[1;37m                                                                     ^\u001b[0m\n\u001b[1;31mSyntaxError\u001b[0m\u001b[1;31m:\u001b[0m (unicode error) 'unicodeescape' codec can't decode bytes in position 2-3: truncated \\UXXXXXXXX escape\n"
     ]
    }
   ],
   "source": [
    " plydata = PlyData.read('C:\\Users\\snatanzi\\Downloads\\floor(2).ply')"
   ]
  },
  {
   "cell_type": "code",
   "execution_count": 8,
   "id": "7ed24aa2-3853-441e-a410-e47ffb4332d4",
   "metadata": {},
   "outputs": [
    {
     "data": {
      "text/plain": [
       "PlyData((PlyElement('vertex', (PlyProperty('x', 'float'), PlyProperty('y', 'float'), PlyProperty('z', 'float'), PlyProperty('u', 'float'), PlyProperty('v', 'float')), count=4, comments=[]), PlyElement('face', (PlyListProperty('vertex_indices', 'uchar', 'int'),), count=2, comments=[])), text=False, byte_order='<', comments=[], obj_info=[])"
      ]
     },
     "execution_count": 8,
     "metadata": {},
     "output_type": "execute_result"
    }
   ],
   "source": [
    "plydata"
   ]
  },
  {
   "cell_type": "code",
   "execution_count": 9,
   "id": "62a77d46-2ab5-445c-b4ce-5c0cabb5d7e4",
   "metadata": {},
   "outputs": [],
   "source": [
    "from plyfile import PlyData\n",
    "import numpy as np\n",
    "import open3d as o3d\n",
    "\n",
    "# Read the PLY file\n",
    "plydata = PlyData.read('meshes/wall_ym.ply')\n",
    "\n",
    "# Extract vertex coordinates\n",
    "vertex_data = plydata['vertex'].data\n",
    "vertices = np.vstack((vertex_data['x'], vertex_data['y'], vertex_data['z'])).T\n",
    "\n",
    "# Check if face information is available and visualize accordingly\n",
    "if 'face' in plydata:\n",
    "    face_data = plydata['face'].data['vertex_indices']\n",
    "    faces = np.array([face.tolist() for face in face_data])\n",
    "    mesh = o3d.geometry.TriangleMesh()\n",
    "    mesh.vertices = o3d.utility.Vector3dVector(vertices)\n",
    "    mesh.triangles = o3d.utility.Vector3iVector(faces)\n",
    "    mesh.compute_vertex_normals()\n",
    "    o3d.visualization.draw_geometries([mesh])\n",
    "else:\n",
    "    pcd = o3d.geometry.PointCloud()\n",
    "    pcd.points = o3d.utility.Vector3dVector(vertices)\n",
    "    o3d.visualization.draw_geometries([pcd])\n"
   ]
  },
  {
   "cell_type": "code",
   "execution_count": null,
   "id": "6de1c0a7-82bd-4d1c-8648-fa3b6d3d6755",
   "metadata": {},
   "outputs": [],
   "source": []
  }
 ],
 "metadata": {
  "kernelspec": {
   "display_name": "Python 3 (ipykernel)",
   "language": "python",
   "name": "python3"
  },
  "language_info": {
   "codemirror_mode": {
    "name": "ipython",
    "version": 3
   },
   "file_extension": ".py",
   "mimetype": "text/x-python",
   "name": "python",
   "nbconvert_exporter": "python",
   "pygments_lexer": "ipython3",
   "version": "3.11.5"
  }
 },
 "nbformat": 4,
 "nbformat_minor": 5
}
